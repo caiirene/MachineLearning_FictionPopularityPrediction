{
 "cells": [
  {
   "cell_type": "code",
   "execution_count": 67,
   "metadata": {},
   "outputs": [
    {
     "name": "stdout",
     "output_type": "stream",
     "text": [
      "   book_id book_name author  NonVIP_average_click  reviews_num  collected_num  \\\n",
      "0   113782    婆娑（GL）    暮成雪               28628.0       2946.0         6261.0   \n",
      "1   113783     最后的童话     孤*                 511.0         18.0            0.0   \n",
      "2   113784       梧桐雨    小翎子                 248.0          0.0            0.0   \n",
      "3   113786   我拿什么来爱你    黑玻璃                 234.0          1.0            2.0   \n",
      "4   113788  天上的秋千不寂寞   北方之北                 228.0          0.0            0.0   \n",
      "\n",
      "   nutrient_num   credits          genre perspective  progress  \\\n",
      "0         475.0  83095680  原创-百合-近代现代-爱情          主受         1   \n",
      "1           0.0    188633  原创-言情-近代现代-奇幻          女主         1   \n",
      "2           0.0     56872  原创-言情-幻想未来-奇幻          女主         0   \n",
      "3           0.0    223842  原创-纯爱-古色古香-爱情          主受         0   \n",
      "4           0.0     24180  原创-言情-幻想未来-爱情          女主         1   \n",
      "\n",
      "   contract_status  chapter_launch_time  total_word_count  \n",
      "0                1  2006-12-16 10:24:42            219747  \n",
      "1                0  2006-07-05 22:14:57              6558  \n",
      "2                0  2006-07-04 09:30:37              6310  \n",
      "3                0  2006-07-04 16:57:50             31884  \n",
      "4                0  2006-07-04 09:43:59              3080  \n"
     ]
    }
   ],
   "source": [
    "import pandas as pd\n",
    "from sklearn.model_selection import train_test_split\n",
    "from sklearn.linear_model import LinearRegression\n",
    "from sklearn.metrics import mean_squared_error, r2_score\n",
    "import numpy as np\n",
    "\n",
    "# read data\n",
    "file_path = 'JinjiangBooks.csv'\n",
    "data = pd.read_csv(file_path)\n",
    "\n",
    "# check the head\n",
    "print(data.head())\n"
   ]
  },
  {
   "cell_type": "code",
   "execution_count": 68,
   "metadata": {},
   "outputs": [
    {
     "name": "stdout",
     "output_type": "stream",
     "text": [
      "   book_id book_name author  NonVIP_average_click  reviews_num  collected_num  \\\n",
      "0   113782    婆娑（GL）    暮成雪               28628.0       2946.0         6261.0   \n",
      "1   113783     最后的童话     孤*                 511.0         18.0            0.0   \n",
      "2   113784       梧桐雨    小翎子                 248.0          0.0            0.0   \n",
      "3   113786   我拿什么来爱你    黑玻璃                 234.0          1.0            2.0   \n",
      "4   113788  天上的秋千不寂寞   北方之北                 228.0          0.0            0.0   \n",
      "\n",
      "   nutrient_num   credits          genre perspective  progress  \\\n",
      "0         475.0  83095680  原创-百合-近代现代-爱情          主受         1   \n",
      "1           0.0    188633  原创-言情-近代现代-奇幻          女主         1   \n",
      "2           0.0     56872  原创-言情-幻想未来-奇幻          女主         0   \n",
      "3           0.0    223842  原创-纯爱-古色古香-爱情          主受         0   \n",
      "4           0.0     24180  原创-言情-幻想未来-爱情          女主         1   \n",
      "\n",
      "   contract_status  chapter_launch_time  total_word_count  \n",
      "0                1  2006-12-16 10:24:42            219747  \n",
      "1                0  2006-07-05 22:14:57              6558  \n",
      "2                0  2006-07-04 09:30:37              6310  \n",
      "3                0  2006-07-04 16:57:50             31884  \n",
      "4                0  2006-07-04 09:43:59              3080  \n"
     ]
    }
   ],
   "source": [
    "# 处理空缺信息，包括数字，日期，分类，视角\n",
    "# Handle missing numeric data and fill it with 0\n",
    "num_cols = ['NonVIP_average_click', 'reviews_num', 'collected_num', 'nutrient_num', 'credits', 'progress', 'contract_status', 'total_word_count']\n",
    "data[num_cols] = data[num_cols].fillna(0)\n",
    "\n",
    "# Missing values in the category type field are filled with \"NONE\"\n",
    "cat_cols = ['genre', 'perspective']\n",
    "data[cat_cols] = data[cat_cols].fillna('NONE')\n",
    "\n",
    "# Handle date fields, missing or \"Error\" replaced with \"0000-00-00 00:00:00\"\n",
    "data['chapter_launch_time'] = data['chapter_launch_time'].replace('Error', '0000-00-00 00:00:00').fillna('0000-00-00 00:00:00')\n",
    "\n",
    "# Check the results after data preprocessing\n",
    "print(data.head())\n",
    "\n",
    "# Proceeding to model training and evaluation steps\n"
   ]
  },
  {
   "cell_type": "code",
   "execution_count": 69,
   "metadata": {},
   "outputs": [
    {
     "name": "stdout",
     "output_type": "stream",
     "text": [
      "   book_id book_name author  NonVIP_average_click  reviews_num  collected_num  \\\n",
      "0   113782    婆娑（GL）    暮成雪               28628.0       2946.0         6261.0   \n",
      "1   113783     最后的童话     孤*                 511.0         18.0            0.0   \n",
      "2   113784       梧桐雨    小翎子                 248.0          0.0            0.0   \n",
      "3   113786   我拿什么来爱你    黑玻璃                 234.0          1.0            2.0   \n",
      "4   113788  天上的秋千不寂寞   北方之北                 228.0          0.0            0.0   \n",
      "\n",
      "   nutrient_num   credits          genre perspective  ...  sub_genre3_悬疑  \\\n",
      "0         475.0  83095680  原创-百合-近代现代-爱情          主受  ...          False   \n",
      "1           0.0    188633  原创-言情-近代现代-奇幻          女主  ...          False   \n",
      "2           0.0     56872  原创-言情-幻想未来-奇幻          女主  ...          False   \n",
      "3           0.0    223842  原创-纯爱-古色古香-爱情          主受  ...          False   \n",
      "4           0.0     24180  原创-言情-幻想未来-爱情          女主  ...          False   \n",
      "\n",
      "   sub_genre3_惊悚 sub_genre3_无  sub_genre3_武侠  sub_genre3_游戏  sub_genre3_爱情  \\\n",
      "0          False        False          False          False           True   \n",
      "1          False        False          False          False          False   \n",
      "2          False        False          False          False          False   \n",
      "3          False        False          False          False           True   \n",
      "4          False        False          False          False           True   \n",
      "\n",
      "   sub_genre3_科幻  sub_genre3_童话  sub_genre3_西方衍生  sub_genre3_轻小说  \n",
      "0          False          False            False           False  \n",
      "1          False          False            False           False  \n",
      "2          False          False            False           False  \n",
      "3          False          False            False           False  \n",
      "4          False          False            False           False  \n",
      "\n",
      "[5 rows x 52 columns]\n"
     ]
    }
   ],
   "source": [
    "# 处理分类\n",
    "# Break the genre column into subcolumns\n",
    "data['genre'] = data['genre'].fillna('无-无-无-无')  # Fill in missing values first to ensure no errors in decomposition\n",
    "expanded_genres = data['genre'].str.split('-', expand=True)\n",
    "\n",
    "# Name the decomposed columns to ensure that no errors occur even if some columns do not exist\n",
    "genre_columns = ['top_genre', 'sub_genre1', 'sub_genre2', 'sub_genre3']\n",
    "for i, col in enumerate(genre_columns):\n",
    "    if i < expanded_genres.shape[1]:  # Check whether the number of columns decomposed is sufficient\n",
    "        data[col] = expanded_genres[i].fillna('无')  # Fill in possible missing values\n",
    "    else:\n",
    "        data[col] = '无'  # If there is no decomposed column at that position, populate 'None'\n",
    "\n",
    "# Convert new categorical columns to one-hot encoding format\n",
    "data = pd.get_dummies(data, columns=genre_columns)\n",
    "\n",
    "# check result\n",
    "print(data.head())"
   ]
  },
  {
   "cell_type": "code",
   "execution_count": 70,
   "metadata": {},
   "outputs": [
    {
     "name": "stdout",
     "output_type": "stream",
     "text": [
      "   book_id book_name author  NonVIP_average_click  reviews_num  collected_num  \\\n",
      "0   113782    婆娑（GL）    暮成雪               28628.0       2946.0         6261.0   \n",
      "1   113783     最后的童话     孤*                 511.0         18.0            0.0   \n",
      "2   113784       梧桐雨    小翎子                 248.0          0.0            0.0   \n",
      "3   113786   我拿什么来爱你    黑玻璃                 234.0          1.0            2.0   \n",
      "4   113788  天上的秋千不寂寞   北方之北                 228.0          0.0            0.0   \n",
      "\n",
      "   nutrient_num   credits          genre  progress  ...  sub_genre3_童话  \\\n",
      "0         475.0  83095680  原创-百合-近代现代-爱情         1  ...          False   \n",
      "1           0.0    188633  原创-言情-近代现代-奇幻         1  ...          False   \n",
      "2           0.0     56872  原创-言情-幻想未来-奇幻         0  ...          False   \n",
      "3           0.0    223842  原创-纯爱-古色古香-爱情         0  ...          False   \n",
      "4           0.0     24180  原创-言情-幻想未来-爱情         1  ...          False   \n",
      "\n",
      "  sub_genre3_西方衍生  sub_genre3_轻小说  perspective_NONE  perspective_不明  \\\n",
      "0           False           False             False           False   \n",
      "1           False           False             False           False   \n",
      "2           False           False             False           False   \n",
      "3           False           False             False           False   \n",
      "4           False           False             False           False   \n",
      "\n",
      "   perspective_主受  perspective_主攻  perspective_互攻  perspective_女主  \\\n",
      "0            True           False           False           False   \n",
      "1           False           False           False            True   \n",
      "2           False           False           False            True   \n",
      "3            True           False           False           False   \n",
      "4           False           False           False            True   \n",
      "\n",
      "   perspective_男主  \n",
      "0           False  \n",
      "1           False  \n",
      "2           False  \n",
      "3           False  \n",
      "4           False  \n",
      "\n",
      "[5 rows x 58 columns]\n"
     ]
    }
   ],
   "source": [
    "# 处理视角\n",
    "# If there are missing values in the 'perspective' column, fill them first\n",
    "data['perspective'] = data['perspective'].fillna('无')\n",
    "\n",
    "# One-hot encoding using get_dummies\n",
    "perspective_dummies = pd.get_dummies(data['perspective'], prefix='perspective')\n",
    "\n",
    "# Concatenate the resulting one-hot encoded DataFrame back to the original DataFrame\n",
    "data = pd.concat([data, perspective_dummies], axis=1)\n",
    "\n",
    "# The original 'perspective' column can now be removed as it has been replaced by one-hot encoding\n",
    "data.drop('perspective', axis=1, inplace=True)\n",
    "\n",
    "# Check the data to confirm that the one-hot encoding column has been added correctly\n",
    "print(data.head())\n"
   ]
  },
  {
   "cell_type": "code",
   "execution_count": 71,
   "metadata": {},
   "outputs": [
    {
     "name": "stdout",
     "output_type": "stream",
     "text": [
      "Empty DataFrame\n",
      "Columns: [book_id, book_name, author, NonVIP_average_click, reviews_num, collected_num, nutrient_num, credits, genre, progress, contract_status, chapter_launch_time, total_word_count, top_genre_, top_genre_原创, top_genre_未知, top_genre_衍生, top_genre_评论, top_genre_诗歌, top_genre_随笔, sub_genre1_, sub_genre1_女尊, sub_genre1_无, sub_genre1_无CP, sub_genre1_百合, sub_genre1_纯爱, sub_genre1_言情, sub_genre2_, sub_genre2_古色古香, sub_genre2_幻想未来, sub_genre2_无, sub_genre2_架空历史, sub_genre2_近代现代, sub_genre3_, sub_genre3_东方衍生, sub_genre3_仙侠, sub_genre3_传奇, sub_genre3_其他衍生, sub_genre3_剧情, sub_genre3_古典衍生, sub_genre3_奇幻, sub_genre3_悬疑, sub_genre3_惊悚, sub_genre3_无, sub_genre3_武侠, sub_genre3_游戏, sub_genre3_爱情, sub_genre3_科幻, sub_genre3_童话, sub_genre3_西方衍生, sub_genre3_轻小说, perspective_NONE, perspective_不明, perspective_主受, perspective_主攻, perspective_互攻, perspective_女主, perspective_男主]\n",
      "Index: []\n",
      "\n",
      "[0 rows x 58 columns]\n"
     ]
    }
   ],
   "source": [
    "# 检查 'credits' 列中的非数值数据\n",
    "# 这将打印出所有 'credits' 列中的非数值行\n",
    "invalid_credits = pd.to_numeric(data['credits'], errors='coerce').isna()\n",
    "print(data[invalid_credits])\n",
    "\n",
    "# 选择如何处理这些行：可以选择删除它们，或者替换为合理的数值\n",
    "# 例如，这里我们选择将它们替换为0\n",
    "data.loc[invalid_credits, 'credits'] = 0\n",
    "\n",
    "# 确保 'credits' 列是数值类型\n",
    "data['credits'] = pd.to_numeric(data['credits'])"
   ]
  },
  {
   "cell_type": "code",
   "execution_count": 72,
   "metadata": {},
   "outputs": [
    {
     "name": "stderr",
     "output_type": "stream",
     "text": [
      "C:\\Users\\aaqqi\\AppData\\Local\\Temp\\ipykernel_18448\\905966682.py:8: FutureWarning: A value is trying to be set on a copy of a DataFrame or Series through chained assignment using an inplace method.\n",
      "The behavior will change in pandas 3.0. This inplace method will never work because the intermediate object on which we are setting values always behaves as a copy.\n",
      "\n",
      "For example, when doing 'df[col].method(value, inplace=True)', try using 'df.method({col: value}, inplace=True)' or df[col] = df[col].method(value) instead, to perform the operation inplace on the original object.\n",
      "\n",
      "\n",
      "  data['days_from_min_date'].fillna(0, inplace=True)  # 假设无效日期距离最小日期的天数为0\n"
     ]
    }
   ],
   "source": [
    "# 处理日期数据：将 'chapter_launch_time' 转换为距离最小日期的天数\n",
    "data['chapter_launch_time'] = pd.to_datetime(data['chapter_launch_time'], errors='coerce')  # 转换日期，无效数据转为 NaT\n",
    "min_date = data['chapter_launch_time'].min()  # 获取最小日期\n",
    "data['days_from_min_date'] = (data['chapter_launch_time'] - min_date).dt.days  # 计算天数差\n",
    "data.drop('chapter_launch_time', axis=1, inplace=True)  # 删除原始日期列\n",
    "\n",
    "# 填充由于日期无效导致的缺失值\n",
    "data['days_from_min_date'].fillna(0, inplace=True)  # 假设无效日期距离最小日期的天数为0"
   ]
  },
  {
   "cell_type": "code",
   "execution_count": 73,
   "metadata": {},
   "outputs": [
    {
     "name": "stdout",
     "output_type": "stream",
     "text": [
      "Index(['NonVIP_average_click', 'reviews_num', 'collected_num', 'nutrient_num',\n",
      "       'credits', 'progress', 'contract_status', 'total_word_count',\n",
      "       'top_genre_', 'top_genre_原创', 'top_genre_未知', 'top_genre_衍生',\n",
      "       'top_genre_评论', 'top_genre_诗歌', 'top_genre_随笔', 'sub_genre1_',\n",
      "       'sub_genre1_女尊', 'sub_genre1_无', 'sub_genre1_无CP', 'sub_genre1_百合',\n",
      "       'sub_genre1_纯爱', 'sub_genre1_言情', 'sub_genre2_', 'sub_genre2_古色古香',\n",
      "       'sub_genre2_幻想未来', 'sub_genre2_无', 'sub_genre2_架空历史', 'sub_genre2_近代现代',\n",
      "       'sub_genre3_', 'sub_genre3_东方衍生', 'sub_genre3_仙侠', 'sub_genre3_传奇',\n",
      "       'sub_genre3_其他衍生', 'sub_genre3_剧情', 'sub_genre3_古典衍生', 'sub_genre3_奇幻',\n",
      "       'sub_genre3_悬疑', 'sub_genre3_惊悚', 'sub_genre3_无', 'sub_genre3_武侠',\n",
      "       'sub_genre3_游戏', 'sub_genre3_爱情', 'sub_genre3_科幻', 'sub_genre3_童话',\n",
      "       'sub_genre3_西方衍生', 'sub_genre3_轻小说', 'perspective_NONE',\n",
      "       'perspective_不明', 'perspective_主受', 'perspective_主攻', 'perspective_互攻',\n",
      "       'perspective_女主', 'perspective_男主', 'days_from_min_date'],\n",
      "      dtype='object')\n"
     ]
    }
   ],
   "source": [
    "# 确保所有操作都正确执行\n",
    "data.drop(['book_name', 'author', 'genre', 'book_id'], axis=1, inplace=True)\n",
    "\n",
    "# 再次检查列名，确认删除操作成功\n",
    "print(data.columns)\n"
   ]
  },
  {
   "cell_type": "code",
   "execution_count": 74,
   "metadata": {},
   "outputs": [
    {
     "name": "stdout",
     "output_type": "stream",
     "text": [
      "Data has been successfully saved to processed_data.csv\n"
     ]
    }
   ],
   "source": [
    "import pandas as pd\n",
    "\n",
    "# 假设 data 是您已经加载并处理好的 DataFrame\n",
    "# 指定要保存的CSV文件路径\n",
    "output_file_path = 'processed_data.csv'  # 修改为您希望保存文件的具体路径\n",
    "\n",
    "# 将DataFrame保存到CSV\n",
    "data.to_csv(output_file_path, index=False, encoding='utf-8-sig')\n",
    "\n",
    "print(f\"Data has been successfully saved to {output_file_path}\")\n"
   ]
  },
  {
   "cell_type": "code",
   "execution_count": 75,
   "metadata": {},
   "outputs": [
    {
     "name": "stdout",
     "output_type": "stream",
     "text": [
      "Index(['NonVIP_average_click', 'reviews_num', 'collected_num', 'nutrient_num',\n",
      "       'credits', 'progress', 'contract_status', 'total_word_count',\n",
      "       'top_genre_', 'top_genre_原创', 'top_genre_未知', 'top_genre_衍生',\n",
      "       'top_genre_评论', 'top_genre_诗歌', 'top_genre_随笔', 'sub_genre1_',\n",
      "       'sub_genre1_女尊', 'sub_genre1_无', 'sub_genre1_无CP', 'sub_genre1_百合',\n",
      "       'sub_genre1_纯爱', 'sub_genre1_言情', 'sub_genre2_', 'sub_genre2_古色古香',\n",
      "       'sub_genre2_幻想未来', 'sub_genre2_无', 'sub_genre2_架空历史', 'sub_genre2_近代现代',\n",
      "       'sub_genre3_', 'sub_genre3_东方衍生', 'sub_genre3_仙侠', 'sub_genre3_传奇',\n",
      "       'sub_genre3_其他衍生', 'sub_genre3_剧情', 'sub_genre3_古典衍生', 'sub_genre3_奇幻',\n",
      "       'sub_genre3_悬疑', 'sub_genre3_惊悚', 'sub_genre3_无', 'sub_genre3_武侠',\n",
      "       'sub_genre3_游戏', 'sub_genre3_爱情', 'sub_genre3_科幻', 'sub_genre3_童话',\n",
      "       'sub_genre3_西方衍生', 'sub_genre3_轻小说', 'perspective_NONE',\n",
      "       'perspective_不明', 'perspective_主受', 'perspective_主攻', 'perspective_互攻',\n",
      "       'perspective_女主', 'perspective_男主', 'days_from_min_date'],\n",
      "      dtype='object')\n",
      "   NonVIP_average_click  reviews_num  collected_num  nutrient_num   credits  \\\n",
      "0               28628.0       2946.0         6261.0         475.0  83095680   \n",
      "1                 511.0         18.0            0.0           0.0    188633   \n",
      "2                 248.0          0.0            0.0           0.0     56872   \n",
      "3                 234.0          1.0            2.0           0.0    223842   \n",
      "4                 228.0          0.0            0.0           0.0     24180   \n",
      "\n",
      "   progress  contract_status  total_word_count  top_genre_  top_genre_原创  ...  \\\n",
      "0         1                1            219747       False          True  ...   \n",
      "1         1                0              6558       False          True  ...   \n",
      "2         0                0              6310       False          True  ...   \n",
      "3         0                0             31884       False          True  ...   \n",
      "4         1                0              3080       False          True  ...   \n",
      "\n",
      "   sub_genre3_西方衍生  sub_genre3_轻小说  perspective_NONE  perspective_不明  \\\n",
      "0            False           False             False           False   \n",
      "1            False           False             False           False   \n",
      "2            False           False             False           False   \n",
      "3            False           False             False           False   \n",
      "4            False           False             False           False   \n",
      "\n",
      "   perspective_主受  perspective_主攻  perspective_互攻  perspective_女主  \\\n",
      "0            True           False           False           False   \n",
      "1           False           False           False            True   \n",
      "2           False           False           False            True   \n",
      "3            True           False           False           False   \n",
      "4           False           False           False            True   \n",
      "\n",
      "   perspective_男主  days_from_min_date  \n",
      "0           False               165.0  \n",
      "1           False                 1.0  \n",
      "2           False                 0.0  \n",
      "3           False                 0.0  \n",
      "4           False                 0.0  \n",
      "\n",
      "[5 rows x 54 columns]\n"
     ]
    }
   ],
   "source": [
    "# 打印列名，检查是否有拼写错误或未被删除的列\n",
    "print(data.columns)\n",
    "\n",
    "# 查看DataFrame的前几行，确认数据的当前状态\n",
    "print(data.head())\n"
   ]
  },
  {
   "cell_type": "code",
   "execution_count": 76,
   "metadata": {},
   "outputs": [
    {
     "name": "stdout",
     "output_type": "stream",
     "text": [
      "NonVIP_average_click    float64\n",
      "reviews_num             float64\n",
      "collected_num           float64\n",
      "nutrient_num            float64\n",
      "credits                   int64\n",
      "progress                  int64\n",
      "contract_status           int64\n",
      "total_word_count          int64\n",
      "top_genre_                 bool\n",
      "top_genre_原创               bool\n",
      "top_genre_未知               bool\n",
      "top_genre_衍生               bool\n",
      "top_genre_评论               bool\n",
      "top_genre_诗歌               bool\n",
      "top_genre_随笔               bool\n",
      "sub_genre1_                bool\n",
      "sub_genre1_女尊              bool\n",
      "sub_genre1_无               bool\n",
      "sub_genre1_无CP             bool\n",
      "sub_genre1_百合              bool\n",
      "sub_genre1_纯爱              bool\n",
      "sub_genre1_言情              bool\n",
      "sub_genre2_                bool\n",
      "sub_genre2_古色古香            bool\n",
      "sub_genre2_幻想未来            bool\n",
      "sub_genre2_无               bool\n",
      "sub_genre2_架空历史            bool\n",
      "sub_genre2_近代现代            bool\n",
      "sub_genre3_                bool\n",
      "sub_genre3_东方衍生            bool\n",
      "sub_genre3_仙侠              bool\n",
      "sub_genre3_传奇              bool\n",
      "sub_genre3_其他衍生            bool\n",
      "sub_genre3_剧情              bool\n",
      "sub_genre3_古典衍生            bool\n",
      "sub_genre3_奇幻              bool\n",
      "sub_genre3_悬疑              bool\n",
      "sub_genre3_惊悚              bool\n",
      "sub_genre3_无               bool\n",
      "sub_genre3_武侠              bool\n",
      "sub_genre3_游戏              bool\n",
      "sub_genre3_爱情              bool\n",
      "sub_genre3_科幻              bool\n",
      "sub_genre3_童话              bool\n",
      "sub_genre3_西方衍生            bool\n",
      "sub_genre3_轻小说             bool\n",
      "perspective_NONE           bool\n",
      "perspective_不明             bool\n",
      "perspective_主受             bool\n",
      "perspective_主攻             bool\n",
      "perspective_互攻             bool\n",
      "perspective_女主             bool\n",
      "perspective_男主             bool\n",
      "days_from_min_date      float64\n",
      "dtype: object\n"
     ]
    }
   ],
   "source": [
    "# 打印每列的数据类型\n",
    "print(data.dtypes)\n"
   ]
  },
  {
   "cell_type": "code",
   "execution_count": 78,
   "metadata": {},
   "outputs": [
    {
     "name": "stdout",
     "output_type": "stream",
     "text": [
      "均方误差 (MSE): 483167887561478.5\n",
      "决定系数 (R^2): 0.8832620976679912\n"
     ]
    }
   ],
   "source": [
    "from sklearn.model_selection import train_test_split\n",
    "from sklearn.linear_model import LinearRegression\n",
    "from sklearn.metrics import mean_squared_error, r2_score\n",
    "\n",
    "file_path = 'processed_data.csv'  # 确保这是您数据文件的正确路径\n",
    "data = pd.read_csv(file_path)\n",
    "# 假设 data 是您已经正确处理的 DataFrame\n",
    "# 准备输入特征X和目标变量y\n",
    "X = data.drop('credits', axis=1)  # 移除目标变量列\n",
    "y = data['credits']  # 目标变量\n",
    "\n",
    "# 划分训练集和测试集，比例为80%训练，20%测试\n",
    "X_train, X_test, y_train, y_test = train_test_split(X, y, test_size=0.2, random_state=42)\n",
    "\n",
    "# 创建线性回归模型实例\n",
    "model = LinearRegression()\n",
    "\n",
    "# 训练模型\n",
    "model.fit(X_train, y_train)\n",
    "\n",
    "# 在测试集上进行预测\n",
    "y_pred = model.predict(X_test)\n",
    "\n",
    "# 计算模型性能指标\n",
    "mse = mean_squared_error(y_test, y_pred)\n",
    "r2 = r2_score(y_test, y_pred)\n",
    "\n",
    "# 输出模型性能\n",
    "print(\"均方误差 (MSE):\", mse)\n",
    "print(\"决定系数 (R^2):\", r2)\n"
   ]
  },
  {
   "cell_type": "code",
   "execution_count": 79,
   "metadata": {},
   "outputs": [
    {
     "name": "stdout",
     "output_type": "stream",
     "text": [
      "更新后的均方误差 (MSE): 482728975870400.1\n",
      "更新后的决定系数 (R^2): 0.8833681428573438\n"
     ]
    }
   ],
   "source": [
    "from sklearn.preprocessing import StandardScaler\n",
    "from sklearn.pipeline import make_pipeline\n",
    "\n",
    "# 创建一个带有数据标准化步骤的管道\n",
    "pipeline = make_pipeline(StandardScaler(), LinearRegression())\n",
    "\n",
    "# 使用管道重新训练模型\n",
    "pipeline.fit(X_train, y_train)\n",
    "y_pred = pipeline.predict(X_test)\n",
    "\n",
    "# 计算更新后的MSE和R²\n",
    "mse = mean_squared_error(y_test, y_pred)\n",
    "r2 = r2_score(y_test, y_pred)\n",
    "\n",
    "print(\"更新后的均方误差 (MSE):\", mse)\n",
    "print(\"更新后的决定系数 (R^2):\", r2)\n"
   ]
  },
  {
   "cell_type": "code",
   "execution_count": 80,
   "metadata": {},
   "outputs": [
    {
     "data": {
      "image/png": "[encoded data removed]",
      "text/plain": [
       "<Figure size 640x480 with 1 Axes>"
      ]
     },
     "metadata": {},
     "output_type": "display_data"
    },
    {
     "name": "stdout",
     "output_type": "stream",
     "text": [
      "处理异常值后的均方误差 (MSE): 39745011006079.805\n",
      "处理异常值后的决定系数 (R^2): 0.7694588753656595\n"
     ]
    }
   ],
   "source": [
    "import seaborn as sns\n",
    "import matplotlib.pyplot as plt\n",
    "\n",
    "# 可视化目标变量以查看是否有明显的异常值\n",
    "sns.boxplot(x=data['credits'])\n",
    "plt.show()\n",
    "\n",
    "# 可以考虑剔除一些极端的异常值\n",
    "q_low = data['credits'].quantile(0.01)\n",
    "q_hi  = data['credits'].quantile(0.99)\n",
    "\n",
    "filtered_data = data[(data['credits'] > q_low) & (data['credits'] < q_hi)]\n",
    "\n",
    "# 重新划分数据\n",
    "X_filtered = filtered_data.drop('credits', axis=1)\n",
    "y_filtered = filtered_data['credits']\n",
    "\n",
    "X_train, X_test, y_train, y_test = train_test_split(X_filtered, y_filtered, test_size=0.2, random_state=42)\n",
    "model.fit(X_train, y_train)\n",
    "y_pred = model.predict(X_test)\n",
    "\n",
    "mse = mean_squared_error(y_test, y_pred)\n",
    "r2 = r2_score(y_test, y_pred)\n",
    "\n",
    "print(\"处理异常值后的均方误差 (MSE):\", mse)\n",
    "print(\"处理异常值后的决定系数 (R^2):\", r2)\n"
   ]
  },
  {
   "cell_type": "code",
   "execution_count": 81,
   "metadata": {},
   "outputs": [
    {
     "name": "stdout",
     "output_type": "stream",
     "text": [
      "随机森林模型的均方误差 (MSE): 43509080720802.57\n",
      "随机森林模型的决定系数 (R^2): 0.7476253711529798\n"
     ]
    }
   ],
   "source": [
    "from sklearn.ensemble import RandomForestRegressor\n",
    "\n",
    "# 使用随机森林模型\n",
    "rf_model = RandomForestRegressor(n_estimators=100, random_state=42)\n",
    "rf_model.fit(X_train, y_train)\n",
    "y_pred_rf = rf_model.predict(X_test)\n",
    "\n",
    "mse_rf = mean_squared_error(y_test, y_pred_rf)\n",
    "r2_rf = r2_score(y_test, y_pred_rf)\n",
    "\n",
    "print(\"随机森林模型的均方误差 (MSE):\", mse_rf)\n",
    "print(\"随机森林模型的决定系数 (R^2):\", r2_rf)\n"
   ]
  }
 ],
 "metadata": {
  "kernelspec": {
   "display_name": "Python 3",
   "language": "python",
   "name": "python3"
  },
  "language_info": {
   "codemirror_mode": {
    "name": "ipython",
    "version": 3
   },
   "file_extension": ".py",
   "mimetype": "text/x-python",
   "name": "python",
   "nbconvert_exporter": "python",
   "pygments_lexer": "ipython3",
   "version": "3.11.5"
  }
 },
 "nbformat": 4,
 "nbformat_minor": 2
}
